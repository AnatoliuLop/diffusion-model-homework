{
 "cells": [
  {
   "cell_type": "markdown",
   "id": "a87f0fb5",
   "metadata": {},
   "source": [
    " Імпорти та конфіг"
   ]
  },
  {
   "cell_type": "code",
   "execution_count": null,
   "id": "11c83123",
   "metadata": {
    "vscode": {
     "languageId": "plaintext"
    }
   },
   "outputs": [],
   "source": [
    "import os, time, torch\n",
    "from PIL import Image\n",
    "from diffusers import StableDiffusionPipeline, StableDiffusionLatentUpscalePipeline\n",
    "from diffusers import DPMSolverMultistepScheduler"
   ]
  },
  {
   "cell_type": "markdown",
   "id": "3ddb5673",
   "metadata": {},
   "source": [
    "Основні налаштування"
   ]
  },
  {
   "cell_type": "code",
   "execution_count": null,
   "id": "de9c1403",
   "metadata": {
    "vscode": {
     "languageId": "plaintext"
    }
   },
   "outputs": [],
   "source": [
    "#Конфіг\n",
    "MODEL_ID = \"stabilityai/stable-diffusion-2-1\"\n",
    "UPSCALE_ID = \"stabilityai/sd-x2-latent-upscaler\"  # x2 реалістичний апскейл\n",
    "\n",
    "OUT_DIR = \"outputs\"\n",
    "os.makedirs(OUT_DIR, exist_ok=True)\n",
    "\n",
    "device = \"cuda\" if torch.cuda.is_available() else \"cpu\"\n",
    "dtype = torch.float16 if device == \"cuda\" else torch.float32"
   ]
  },
  {
   "cell_type": "markdown",
   "id": "8b599195",
   "metadata": {},
   "source": [
    "Промпти та негативний промпт"
   ]
  },
  {
   "cell_type": "code",
   "execution_count": null,
   "id": "cc91dbcd",
   "metadata": {
    "vscode": {
     "languageId": "plaintext"
    }
   },
   "outputs": [],
   "source": [
    "#Промпти\n",
    "prompts = [\n",
    "    # 1) Простий\n",
    "    \"Photorealistic night city street in the rain cartoon\",\n",
    "\n",
    "    # 2) Детальніший\n",
    "    \"Photorealistic night city street in the rain, wet asphalt reflecting neon lights, people with umbrellas walking along the sidewalk, realistic lighting and shadows\",\n",
    "\n",
    "    # 3) Найдетальніший\n",
    "    \"Photorealistic night city street in the rain, wet asphalt reflecting colorful neon signs and streetlights, people with umbrellas walking along the busy sidewalk, shop windows glowing warmly, realistic lighting and shadows, cinematic composition, ultra realistic, high resolution, natural color grading, detailed reflections, physically based lighting, depth of field, 35mm photo, HDR\"\n",
    "]\n",
    "\n",
    "negative_prompt = (\n",
    "    \"low quality, blurry, distorted, artifacts, watermark, text, logo, oversaturated, overexposed, \"\n",
    "    \"jpeg artifacts, grainy, worst quality, lowres, deformed, bad anatomy, duplicate objects, tiling\"\n",
    ")"
   ]
  },
  {
   "cell_type": "markdown",
   "id": "ff0ac284",
   "metadata": {},
   "source": [
    "Параметри генерації"
   ]
  },
  {
   "cell_type": "code",
   "execution_count": null,
   "id": "2a431806",
   "metadata": {
    "vscode": {
     "languageId": "plaintext"
    }
   },
   "outputs": [],
   "source": [
    "#Параметри генерації \n",
    "guidance_scale = 7.8\n",
    "num_inference_steps = 48\n",
    "height, width = 1024, 768  # безпечніше за 1024x768 на 8ГБ, але значно чіткіше, ніж 768x512\n",
    "\n",
    "seed = 42\n",
    "generator = torch.Generator(device=device).manual_seed(seed)"
   ]
  },
  {
   "cell_type": "markdown",
   "id": "4b63b6fc",
   "metadata": {},
   "source": [
    "Завантаження базового пайплайну SD 2.1"
   ]
  },
  {
   "cell_type": "code",
   "execution_count": null,
   "id": "1843aea5",
   "metadata": {
    "vscode": {
     "languageId": "plaintext"
    }
   },
   "outputs": [],
   "source": [
    "#Базовий пайплайн\n",
    "pipe = StableDiffusionPipeline.from_pretrained(\n",
    "    MODEL_ID,\n",
    "    torch_dtype=dtype,\n",
    "    use_safetensors=True\n",
    ").to(device)\n",
    "\n",
    "# Scheduler на різкіший \n",
    "pipe.scheduler = DPMSolverMultistepScheduler.from_config(pipe.scheduler.config)\n",
    "\n",
    "# Оптимізації пам’яті \n",
    "pipe.enable_attention_slicing()      # менше VRAM на self-attention\n",
    "pipe.enable_vae_slicing()            # менше VRAM у VAE\n",
    "pipe.enable_vae_tiling()             # тайлінг в VAE для великих розмірів\n",
    "try:\n",
    "    pipe.enable_xformers_memory_efficient_attention()\n",
    "except Exception:\n",
    "    pass  "
   ]
  },
  {
   "cell_type": "markdown",
   "id": "f6e5b7ca",
   "metadata": {},
   "source": [
    "Генерація базових зображень"
   ]
  },
  {
   "cell_type": "code",
   "execution_count": null,
   "id": "cd6f7eb6",
   "metadata": {
    "vscode": {
     "languageId": "plaintext"
    }
   },
   "outputs": [],
   "source": [
    "base_results = []\n",
    "for i, prompt in enumerate(prompts, start=1):\n",
    "    t0 = time.time()\n",
    "    image = pipe(\n",
    "        prompt=prompt,\n",
    "        negative_prompt=negative_prompt,\n",
    "        guidance_scale=guidance_scale,\n",
    "        num_inference_steps=num_inference_steps,\n",
    "        height=height,\n",
    "        width=width,\n",
    "        generator=generator\n",
    "    ).images[0]\n",
    "\n",
    "    fname = f\"beach{i:02d}.png\"\n",
    "    path = os.path.join(OUT_DIR, fname)\n",
    "    image.save(path)\n",
    "    dt = time.time() - t0\n",
    "    base_results.append((i, path, round(dt, 1)))\n",
    "    print(f\"[BASE {i}] Saved: {path} | {dt:.1f}s\")\n"
   ]
  },
  {
   "cell_type": "markdown",
   "id": "486e0429",
   "metadata": {},
   "source": [
    "Апскейл "
   ]
  },
  {
   "cell_type": "code",
   "execution_count": null,
   "id": "a61e1584",
   "metadata": {
    "vscode": {
     "languageId": "plaintext"
    }
   },
   "outputs": [],
   "source": [
    "#x2 Latent Upscale для більш реалістичної мікротекстури\n",
    "up_pipe = StableDiffusionLatentUpscalePipeline.from_pretrained(\n",
    "    UPSCALE_ID,\n",
    "    torch_dtype=dtype\n",
    ").to(device)\n",
    "\n",
    "up_pipe.enable_attention_slicing()\n",
    "up_pipe.enable_vae_slicing()\n",
    "up_pipe.enable_vae_tiling()\n",
    "\n",
    "up_results = []\n",
    "for i, path, _ in base_results:\n",
    "    img = Image.open(path).convert(\"RGB\")\n",
    "    t0 = time.time()\n",
    "    up_img = up_pipe(\n",
    "        prompt=prompts[i-1],                # промпт\n",
    "        image=img,                          # вхід — базове зображення\n",
    "        num_inference_steps=20,             \n",
    "        guidance_scale=0.0                  # апскейлер\n",
    "    ).images[0]\n",
    "\n",
    "    up_path = os.path.join(OUT_DIR, f\"img_up_{i:02d}.png\")\n",
    "    up_img.save(up_path)\n",
    "    dt = time.time() - t0\n",
    "    up_results.append((i, up_path, round(dt, 1)))\n",
    "    print(f\"[UP x2 {i}] Saved: {up_path} | {dt:.1f}s\")\n"
   ]
  }
 ],
 "metadata": {
  "language_info": {
   "name": "python"
  }
 },
 "nbformat": 4,
 "nbformat_minor": 5
}
